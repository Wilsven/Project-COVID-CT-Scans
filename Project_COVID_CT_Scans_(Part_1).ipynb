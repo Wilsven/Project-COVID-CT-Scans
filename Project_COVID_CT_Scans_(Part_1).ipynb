{
  "nbformat": 4,
  "nbformat_minor": 0,
  "metadata": {
    "colab": {
      "name": "Project COVID-CT Scans (Part 1)",
      "provenance": [],
      "collapsed_sections": []
    },
    "kernelspec": {
      "name": "python3",
      "display_name": "Python 3"
    },
    "language_info": {
      "name": "python"
    }
  },
  "cells": [
    {
      "cell_type": "markdown",
      "metadata": {
        "id": "n-CpQt_j_8Ow"
      },
      "source": [
        "# Splitting the Data into train, validation and test sets"
      ]
    },
    {
      "cell_type": "code",
      "metadata": {
        "colab": {
          "base_uri": "https://localhost:8080/"
        },
        "id": "RnlPh9TinV7i",
        "outputId": "ccd4e192-ab36-4b75-f97f-8aedb4f94759"
      },
      "source": [
        "!pip install split-folders"
      ],
      "execution_count": null,
      "outputs": [
        {
          "output_type": "stream",
          "text": [
            "Collecting split-folders\n",
            "  Downloading https://files.pythonhosted.org/packages/b8/5f/3c2b2f7ea5e047c8cdc3bb00ae582c5438fcdbbedcc23b3cc1c2c7aae642/split_folders-0.4.3-py3-none-any.whl\n",
            "Installing collected packages: split-folders\n",
            "Successfully installed split-folders-0.4.3\n"
          ],
          "name": "stdout"
        }
      ]
    },
    {
      "cell_type": "code",
      "metadata": {
        "id": "8kIu1G5Sn2wg"
      },
      "source": [
        "# import split-folders\n",
        "import splitfolders "
      ],
      "execution_count": null,
      "outputs": []
    },
    {
      "cell_type": "code",
      "metadata": {
        "colab": {
          "base_uri": "https://localhost:8080/"
        },
        "id": "icgXmCudn7_G",
        "outputId": "42f771c8-9982-466d-e99f-f6e635792f6c"
      },
      "source": [
        "splitfolders.ratio(input = \"/content/drive/MyDrive/Project COVID-CT/Data\",\n",
        "                   output = \"/content/drive/MyDrive/Project COVID-CT/Output\",\n",
        "                   seed = 2021,\n",
        "                   ratio = (0.7, 0.15, 0.15))"
      ],
      "execution_count": null,
      "outputs": [
        {
          "output_type": "stream",
          "text": [
            "Copying files: 746 files [03:38,  3.42 files/s]\n"
          ],
          "name": "stderr"
        }
      ]
    }
  ]
}