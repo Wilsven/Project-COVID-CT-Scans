{
  "nbformat": 4,
  "nbformat_minor": 0,
  "metadata": {
    "colab": {
      "name": "Project COVID-CT Scans (Part 2)",
      "provenance": [],
      "collapsed_sections": []
    },
    "kernelspec": {
      "name": "python3",
      "display_name": "Python 3"
    },
    "language_info": {
      "name": "python"
    },
    "accelerator": "GPU"
  },
  "cells": [
    {
      "cell_type": "code",
      "metadata": {
        "id": "kI3zAOS9qlzq"
      },
      "source": [
        "# import libraries\n",
        "import keras\n",
        "import matplotlib.pyplot as plt\n",
        "from keras.layers import Dense, GlobalAveragePooling2D, Dropout\n",
        "from keras.applications import densenet\n",
        "from keras.preprocessing.image import ImageDataGenerator\n",
        "from keras.models import Model\n",
        "from keras.optimizers import Adam\n",
        "from keras.callbacks import ModelCheckpoint, EarlyStopping\n",
        "\n",
        "from sklearn.metrics import confusion_matrix, classification_report\n",
        "\n",
        "import numpy as np"
      ],
      "execution_count": null,
      "outputs": []
    },
    {
      "cell_type": "code",
      "metadata": {
        "id": "PqU31N11qzEq"
      },
      "source": [
        "# use transfer learning with DenseNet169\n",
        "base_model = densenet.DenseNet169(weights = \"imagenet\", include_top = False)\n",
        "\n",
        "x = base_model.output\n",
        "x = GlobalAveragePooling2D()(x)\n",
        "x = Dropout(0.5)(x)\n",
        "\n",
        "preds = Dense(2, activation = \"sigmoid\")(x)\n",
        "\n",
        "model = Model(inputs = base_model.input, outputs = preds) "
      ],
      "execution_count": null,
      "outputs": []
    },
    {
      "cell_type": "code",
      "metadata": {
        "id": "iwt-TuWCtBW-"
      },
      "source": [
        "# declare batch size\n",
        "BATCH_SIZE = 16"
      ],
      "execution_count": null,
      "outputs": []
    },
    {
      "cell_type": "code",
      "metadata": {
        "id": "Uh8s_SyGtMV5"
      },
      "source": [
        "# declare ImageDataGenerator objects\n",
        "train_datagen = ImageDataGenerator(rescale = 1./255,\n",
        "                                   shear_range = 0.2,\n",
        "                                   zoom_range = 0.2,\n",
        "                                   brightness_range = [0.2, 1.0],\n",
        "                                   horizontal_flip = True)\n",
        "\n",
        "\n",
        "test_datagen = ImageDataGenerator(rescale = 1./255)"
      ],
      "execution_count": null,
      "outputs": []
    },
    {
      "cell_type": "code",
      "metadata": {
        "colab": {
          "base_uri": "https://localhost:8080/"
        },
        "id": "rsODqHKRuAMs",
        "outputId": "f313c355-0549-4b88-8eaa-a45569ba618e"
      },
      "source": [
        "# create generators \n",
        "train_generator = train_datagen.flow_from_directory(\"/content/drive/MyDrive/Project COVID-CT/Output/train\",\n",
        "                                                    target_size = (480, 480),\n",
        "                                                    color_mode = \"rgb\",\n",
        "                                                    batch_size = BATCH_SIZE,\n",
        "                                                    class_mode = \"categorical\",\n",
        "                                                    shuffle = True)"
      ],
      "execution_count": null,
      "outputs": [
        {
          "output_type": "stream",
          "text": [
            "Found 521 images belonging to 2 classes.\n"
          ],
          "name": "stdout"
        }
      ]
    },
    {
      "cell_type": "code",
      "metadata": {
        "colab": {
          "base_uri": "https://localhost:8080/"
        },
        "id": "Md1pdi24u6U6",
        "outputId": "57b4ba45-c999-4c7c-fc9b-076897c14862"
      },
      "source": [
        "val_generator = train_datagen.flow_from_directory(\"/content/drive/MyDrive/Project COVID-CT/Output/val\",\n",
        "                                                    target_size = (480, 480),\n",
        "                                                    color_mode = \"rgb\",\n",
        "                                                    batch_size = BATCH_SIZE,\n",
        "                                                    class_mode = \"categorical\",\n",
        "                                                    shuffle = True)"
      ],
      "execution_count": null,
      "outputs": [
        {
          "output_type": "stream",
          "text": [
            "Found 111 images belonging to 2 classes.\n"
          ],
          "name": "stdout"
        }
      ]
    },
    {
      "cell_type": "code",
      "metadata": {
        "colab": {
          "base_uri": "https://localhost:8080/"
        },
        "id": "brzKhLr5vHLu",
        "outputId": "a5c7f756-42ea-4bdc-c7a5-fb217e36ffaf"
      },
      "source": [
        "test_generator = test_datagen.flow_from_directory(\"/content/drive/MyDrive/Project COVID-CT/Output/test\",\n",
        "                                                  shuffle = False)"
      ],
      "execution_count": null,
      "outputs": [
        {
          "output_type": "stream",
          "text": [
            "Found 114 images belonging to 2 classes.\n"
          ],
          "name": "stdout"
        }
      ]
    },
    {
      "cell_type": "code",
      "metadata": {
        "id": "yqRh3P33vaUj"
      },
      "source": [
        "# declare callbacks for our model training\n",
        "es = EarlyStopping(monitor = \"val_loss\", patience = 3)\n",
        "mc = ModelCheckpoint(\"/content/drive/MyDrive/Project COVID-CT/best_model.h5\",\n",
        "                     save_best_only = True)"
      ],
      "execution_count": null,
      "outputs": []
    },
    {
      "cell_type": "code",
      "metadata": {
        "id": "Q19NCxvIv4yG"
      },
      "source": [
        "# compile model for training \n",
        "model.compile(optimizer = Adam(learning_rate = 0.0001),\n",
        "              loss = \"binary_crossentropy\",\n",
        "              metrics = [\"accuracy\"])"
      ],
      "execution_count": null,
      "outputs": []
    },
    {
      "cell_type": "code",
      "metadata": {
        "colab": {
          "base_uri": "https://localhost:8080/"
        },
        "id": "dUqdwWnZwRDN",
        "outputId": "4ba0ab26-c6c0-4e3c-e930-7985a650f1ea"
      },
      "source": [
        "# train our model\n",
        "history = model.fit(train_generator,\n",
        "                    steps_per_epoch = train_generator.samples // BATCH_SIZE,\n",
        "                    validation_data = val_generator,\n",
        "                    validation_steps = val_generator.samples // BATCH_SIZE,\n",
        "                    epochs = 50,\n",
        "                    callbacks = [es, mc])"
      ],
      "execution_count": null,
      "outputs": [
        {
          "output_type": "stream",
          "text": [
            "Epoch 1/50\n",
            "32/32 [==============================] - 128s 2s/step - loss: 0.6494 - accuracy: 0.6791 - val_loss: 0.5791 - val_accuracy: 0.7292\n",
            "Epoch 2/50\n",
            "32/32 [==============================] - 47s 1s/step - loss: 0.3814 - accuracy: 0.8179 - val_loss: 0.5664 - val_accuracy: 0.6875\n",
            "Epoch 3/50\n",
            "32/32 [==============================] - 46s 1s/step - loss: 0.3533 - accuracy: 0.8634 - val_loss: 0.3870 - val_accuracy: 0.8229\n",
            "Epoch 4/50\n",
            "32/32 [==============================] - 46s 1s/step - loss: 0.2665 - accuracy: 0.8893 - val_loss: 0.4281 - val_accuracy: 0.8333\n",
            "Epoch 5/50\n",
            "32/32 [==============================] - 46s 1s/step - loss: 0.1961 - accuracy: 0.9423 - val_loss: 0.5190 - val_accuracy: 0.7812\n",
            "Epoch 6/50\n",
            "32/32 [==============================] - 46s 1s/step - loss: 0.1809 - accuracy: 0.9152 - val_loss: 0.2788 - val_accuracy: 0.8958\n",
            "Epoch 7/50\n",
            "32/32 [==============================] - 46s 1s/step - loss: 0.1358 - accuracy: 0.9293 - val_loss: 0.4932 - val_accuracy: 0.7812\n",
            "Epoch 8/50\n",
            "32/32 [==============================] - 46s 1s/step - loss: 0.1756 - accuracy: 0.9218 - val_loss: 0.5239 - val_accuracy: 0.8021\n",
            "Epoch 9/50\n",
            "32/32 [==============================] - 46s 1s/step - loss: 0.0804 - accuracy: 0.9694 - val_loss: 0.6515 - val_accuracy: 0.7812\n"
          ],
          "name": "stdout"
        }
      ]
    },
    {
      "cell_type": "code",
      "metadata": {
        "colab": {
          "base_uri": "https://localhost:8080/",
          "height": 282
        },
        "id": "vRwH2_oEww0H",
        "outputId": "684d0fe1-10fb-49a5-9b20-1f06f9d4fa63"
      },
      "source": [
        "plt.plot(history.epoch, history.history[\"loss\"])\n",
        "plt.plot(history.epoch, history.history[\"val_loss\"], color = \"orange\")"
      ],
      "execution_count": null,
      "outputs": [
        {
          "output_type": "execute_result",
          "data": {
            "text/plain": [
              "[<matplotlib.lines.Line2D at 0x7f104890b410>]"
            ]
          },
          "metadata": {
            "tags": []
          },
          "execution_count": 11
        },
        {
          "output_type": "display_data",
          "data": {
            "image/png": "[encoded data removed]",
            "text/plain": [
              "<Figure size 432x288 with 1 Axes>"
            ]
          },
          "metadata": {
            "tags": [],
            "needs_background": "light"
          }
        }
      ]
    },
    {
      "cell_type": "code",
      "metadata": {
        "colab": {
          "base_uri": "https://localhost:8080/",
          "height": 282
        },
        "id": "d-31Q8Qw0Oln",
        "outputId": "68bbee88-f6cb-4cd2-b510-ed9a23e2b853"
      },
      "source": [
        "plt.plot(history.epoch, history.history[\"accuracy\"])\n",
        "plt.plot(history.epoch, history.history[\"val_accuracy\"], color = \"orange\")"
      ],
      "execution_count": null,
      "outputs": [
        {
          "output_type": "execute_result",
          "data": {
            "text/plain": [
              "[<matplotlib.lines.Line2D at 0x7f10483cb6d0>]"
            ]
          },
          "metadata": {
            "tags": []
          },
          "execution_count": 12
        },
        {
          "output_type": "display_data",
          "data": {
            "image/png": "[encoded data removed]",
            "text/plain": [
              "<Figure size 432x288 with 1 Axes>"
            ]
          },
          "metadata": {
            "tags": [],
            "needs_background": "light"
          }
        }
      ]
    },
    {
      "cell_type": "code",
      "metadata": {
        "colab": {
          "base_uri": "https://localhost:8080/"
        },
        "id": "R4Dwb0Ux0ZXA",
        "outputId": "4794ca72-f71f-4891-843a-c7123c005090"
      },
      "source": [
        "# look at test_generator classes\n",
        "test_generator.classes"
      ],
      "execution_count": null,
      "outputs": [
        {
          "output_type": "execute_result",
          "data": {
            "text/plain": [
              "array([0, 0, 0, 0, 0, 0, 0, 0, 0, 0, 0, 0, 0, 0, 0, 0, 0, 0, 0, 0, 0, 0,\n",
              "       0, 0, 0, 0, 0, 0, 0, 0, 0, 0, 0, 0, 0, 0, 0, 0, 0, 0, 0, 0, 0, 0,\n",
              "       0, 0, 0, 0, 0, 0, 0, 0, 0, 1, 1, 1, 1, 1, 1, 1, 1, 1, 1, 1, 1, 1,\n",
              "       1, 1, 1, 1, 1, 1, 1, 1, 1, 1, 1, 1, 1, 1, 1, 1, 1, 1, 1, 1, 1, 1,\n",
              "       1, 1, 1, 1, 1, 1, 1, 1, 1, 1, 1, 1, 1, 1, 1, 1, 1, 1, 1, 1, 1, 1,\n",
              "       1, 1, 1, 1], dtype=int32)"
            ]
          },
          "metadata": {
            "tags": []
          },
          "execution_count": 13
        }
      ]
    },
    {
      "cell_type": "code",
      "metadata": {
        "colab": {
          "base_uri": "https://localhost:8080/"
        },
        "id": "JPL8mp8i0sot",
        "outputId": "2ebdbde9-dd43-4555-de6e-61bd39858229"
      },
      "source": [
        "# make predictions using test data\n",
        "predictions = model.predict(test_generator)\n",
        "predictions"
      ],
      "execution_count": null,
      "outputs": [
        {
          "output_type": "execute_result",
          "data": {
            "text/plain": [
              "array([[2.3529518e-08, 1.0000000e+00],\n",
              "       [2.0418581e-06, 9.9999714e-01],\n",
              "       [1.4289875e-04, 9.9995267e-01],\n",
              "       [2.1927939e-01, 9.0776742e-01],\n",
              "       [2.0717334e-08, 1.0000000e+00],\n",
              "       [9.9632720e-09, 1.0000000e+00],\n",
              "       [1.0539643e-03, 9.9865013e-01],\n",
              "       [2.2461554e-05, 9.9998927e-01],\n",
              "       [2.9571657e-07, 9.9999928e-01],\n",
              "       [3.3582747e-08, 1.0000000e+00],\n",
              "       [1.7257985e-09, 1.0000000e+00],\n",
              "       [4.6472796e-03, 9.9675709e-01],\n",
              "       [3.9560044e-05, 9.9994147e-01],\n",
              "       [9.7317569e-02, 8.8329238e-01],\n",
              "       [9.7619212e-01, 1.4848666e-02],\n",
              "       [2.7880206e-04, 9.9982458e-01],\n",
              "       [2.6063795e-05, 9.9999630e-01],\n",
              "       [1.8487121e-03, 9.9971193e-01],\n",
              "       [3.0960588e-04, 9.9988604e-01],\n",
              "       [2.6621130e-06, 9.9999928e-01],\n",
              "       [1.6202883e-09, 1.0000000e+00],\n",
              "       [2.2627434e-03, 9.9478781e-01],\n",
              "       [8.6021900e-01, 3.1127104e-01],\n",
              "       [1.2858672e-04, 9.9970335e-01],\n",
              "       [3.5334576e-04, 9.9950123e-01],\n",
              "       [2.4702374e-06, 9.9999750e-01],\n",
              "       [2.9308800e-05, 9.9998784e-01],\n",
              "       [6.6512286e-05, 9.9990654e-01],\n",
              "       [3.6037529e-06, 9.9999869e-01],\n",
              "       [3.2350197e-02, 9.6916336e-01],\n",
              "       [6.7892922e-03, 9.9428177e-01],\n",
              "       [3.5560453e-05, 9.9993217e-01],\n",
              "       [1.8989170e-04, 9.9977809e-01],\n",
              "       [9.1700567e-09, 1.0000000e+00],\n",
              "       [3.7698373e-07, 9.9999976e-01],\n",
              "       [1.0191738e-02, 9.9726701e-01],\n",
              "       [7.5627429e-07, 9.9999940e-01],\n",
              "       [1.3992891e-07, 9.9999988e-01],\n",
              "       [5.5737928e-06, 9.9999726e-01],\n",
              "       [2.4518705e-04, 9.9998188e-01],\n",
              "       [6.1488524e-04, 9.9976033e-01],\n",
              "       [2.4603054e-01, 7.3170280e-01],\n",
              "       [1.0254869e-03, 9.9880958e-01],\n",
              "       [8.2259923e-02, 7.8412831e-01],\n",
              "       [7.1058758e-03, 9.9869847e-01],\n",
              "       [2.2261167e-01, 9.3564236e-01],\n",
              "       [1.6424721e-05, 9.9996459e-01],\n",
              "       [1.0858808e-08, 1.0000000e+00],\n",
              "       [3.2042067e-02, 9.9095058e-01],\n",
              "       [9.7755492e-01, 4.8465330e-02],\n",
              "       [1.1793379e-05, 9.9999285e-01],\n",
              "       [3.3879566e-10, 1.0000000e+00],\n",
              "       [1.6295468e-08, 1.0000000e+00],\n",
              "       [4.4943205e-09, 1.0000000e+00],\n",
              "       [6.7551920e-10, 1.0000000e+00],\n",
              "       [1.3230432e-10, 1.0000000e+00],\n",
              "       [1.9389696e-12, 1.0000000e+00],\n",
              "       [2.7336865e-12, 1.0000000e+00],\n",
              "       [8.0212432e-09, 1.0000000e+00],\n",
              "       [1.5517469e-10, 1.0000000e+00],\n",
              "       [6.8754339e-13, 1.0000000e+00],\n",
              "       [2.6561858e-10, 1.0000000e+00],\n",
              "       [8.5488170e-13, 1.0000000e+00],\n",
              "       [2.4400162e-10, 1.0000000e+00],\n",
              "       [8.7945907e-08, 9.9999988e-01],\n",
              "       [1.6321340e-09, 1.0000000e+00],\n",
              "       [5.3555821e-10, 1.0000000e+00],\n",
              "       [1.8942324e-10, 1.0000000e+00],\n",
              "       [5.3067148e-13, 1.0000000e+00],\n",
              "       [6.7753771e-09, 1.0000000e+00],\n",
              "       [3.6926940e-07, 9.9999964e-01],\n",
              "       [1.1247421e-11, 1.0000000e+00],\n",
              "       [7.0925814e-11, 1.0000000e+00],\n",
              "       [1.6189337e-07, 1.0000000e+00],\n",
              "       [1.5620838e-10, 1.0000000e+00],\n",
              "       [9.9885506e-07, 9.9999964e-01],\n",
              "       [1.3965923e-06, 9.9999630e-01],\n",
              "       [2.2729021e-09, 1.0000000e+00],\n",
              "       [7.5168040e-12, 1.0000000e+00],\n",
              "       [1.2945432e-11, 1.0000000e+00],\n",
              "       [8.8020745e-12, 1.0000000e+00],\n",
              "       [5.0249560e-10, 1.0000000e+00],\n",
              "       [1.1684627e-08, 1.0000000e+00],\n",
              "       [2.1879587e-06, 9.9999964e-01],\n",
              "       [1.1494197e-08, 1.0000000e+00],\n",
              "       [1.9533687e-08, 1.0000000e+00],\n",
              "       [2.3205564e-10, 1.0000000e+00],\n",
              "       [9.5903385e-10, 1.0000000e+00],\n",
              "       [6.3668222e-07, 9.9999905e-01],\n",
              "       [8.0324421e-11, 1.0000000e+00],\n",
              "       [6.9307400e-11, 1.0000000e+00],\n",
              "       [1.2829041e-15, 1.0000000e+00],\n",
              "       [9.5126008e-14, 1.0000000e+00],\n",
              "       [4.3441112e-10, 1.0000000e+00],\n",
              "       [1.0945295e-07, 1.0000000e+00],\n",
              "       [1.9787639e-11, 1.0000000e+00],\n",
              "       [4.1630810e-09, 1.0000000e+00],\n",
              "       [1.7262427e-09, 1.0000000e+00],\n",
              "       [5.8125005e-13, 1.0000000e+00],\n",
              "       [4.2143613e-14, 1.0000000e+00],\n",
              "       [2.3309390e-08, 1.0000000e+00],\n",
              "       [8.2711815e-12, 1.0000000e+00],\n",
              "       [1.0027492e-06, 9.9999893e-01],\n",
              "       [6.3689689e-13, 1.0000000e+00],\n",
              "       [1.0850474e-10, 1.0000000e+00],\n",
              "       [2.7523424e-09, 1.0000000e+00],\n",
              "       [8.0990395e-11, 1.0000000e+00],\n",
              "       [1.1566737e-10, 1.0000000e+00],\n",
              "       [1.7937889e-14, 1.0000000e+00],\n",
              "       [9.0374974e-10, 1.0000000e+00],\n",
              "       [3.4619212e-14, 1.0000000e+00],\n",
              "       [1.2686592e-08, 1.0000000e+00],\n",
              "       [1.9130283e-07, 1.0000000e+00],\n",
              "       [3.2305699e-12, 1.0000000e+00]], dtype=float32)"
            ]
          },
          "metadata": {
            "tags": []
          },
          "execution_count": 14
        }
      ]
    },
    {
      "cell_type": "code",
      "metadata": {
        "colab": {
          "base_uri": "https://localhost:8080/"
        },
        "id": "3qJCv2YA07NW",
        "outputId": "cb224b5d-0c17-44b8-9af3-43d8a4822efe"
      },
      "source": [
        "# use numpy to get predicted classes out \n",
        "single_pred = np.argmax(predictions, axis = 1)\n",
        "single_pred"
      ],
      "execution_count": null,
      "outputs": [
        {
          "output_type": "execute_result",
          "data": {
            "text/plain": [
              "array([1, 1, 1, 1, 1, 1, 1, 1, 1, 1, 1, 1, 1, 1, 0, 1, 1, 1, 1, 1, 1, 1,\n",
              "       0, 1, 1, 1, 1, 1, 1, 1, 1, 1, 1, 1, 1, 1, 1, 1, 1, 1, 1, 1, 1, 1,\n",
              "       1, 1, 1, 1, 1, 0, 1, 1, 1, 1, 1, 1, 1, 1, 1, 1, 1, 1, 1, 1, 1, 1,\n",
              "       1, 1, 1, 1, 1, 1, 1, 1, 1, 1, 1, 1, 1, 1, 1, 1, 1, 1, 1, 1, 1, 1,\n",
              "       1, 1, 1, 1, 1, 1, 1, 1, 1, 1, 1, 1, 1, 1, 1, 1, 1, 1, 1, 1, 1, 1,\n",
              "       1, 1, 1, 1])"
            ]
          },
          "metadata": {
            "tags": []
          },
          "execution_count": 15
        }
      ]
    },
    {
      "cell_type": "code",
      "metadata": {
        "colab": {
          "base_uri": "https://localhost:8080/"
        },
        "id": "vtNjzBXc1c9m",
        "outputId": "02aa337c-b0b2-4ee7-f375-eaba097c5766"
      },
      "source": [
        "confusion_matrix(test_generator.classes, single_pred)"
      ],
      "execution_count": null,
      "outputs": [
        {
          "output_type": "execute_result",
          "data": {
            "text/plain": [
              "array([[ 3, 50],\n",
              "       [ 0, 61]])"
            ]
          },
          "metadata": {
            "tags": []
          },
          "execution_count": 16
        }
      ]
    },
    {
      "cell_type": "code",
      "metadata": {
        "id": "GdRH0qS-1osq"
      },
      "source": [
        "              # Predictions\n",
        "#                0        1\n",
        "# Actual  0     TN       FP\n",
        "#         1     FN       TP"
      ],
      "execution_count": null,
      "outputs": []
    },
    {
      "cell_type": "markdown",
      "metadata": {
        "id": "TBN9ZMMw2VwB"
      },
      "source": [
        "Our model is good at predicting True Positives but horrible at detecting True Negatives. In fact, it has a significant number of wrong guesses in the False Positives category. "
      ]
    },
    {
      "cell_type": "markdown",
      "metadata": {
        "id": "xKWJd5522tWZ"
      },
      "source": [
        "In the case of COVID, it is, clinically speaking, more important that we avoid False Negatives. On the other hand, if our model predicts False Positives, the only downside is that the individual with the lung CT scans may have to undergo more tests. Therefore, in this case, we would prioritize the reduction of False Negatives over reduction of False Positives. "
      ]
    },
    {
      "cell_type": "code",
      "metadata": {
        "colab": {
          "base_uri": "https://localhost:8080/"
        },
        "id": "thbkhE-03Scm",
        "outputId": "31f5185d-abc4-4553-8c67-d6cba5c8b005"
      },
      "source": [
        "print(classification_report(test_generator.classes, single_pred))"
      ],
      "execution_count": null,
      "outputs": [
        {
          "output_type": "stream",
          "text": [
            "              precision    recall  f1-score   support\n",
            "\n",
            "           0       1.00      0.06      0.11        53\n",
            "           1       0.55      1.00      0.71        61\n",
            "\n",
            "    accuracy                           0.56       114\n",
            "   macro avg       0.77      0.53      0.41       114\n",
            "weighted avg       0.76      0.56      0.43       114\n",
            "\n"
          ],
          "name": "stdout"
        }
      ]
    },
    {
      "cell_type": "code",
      "metadata": {
        "colab": {
          "base_uri": "https://localhost:8080/"
        },
        "id": "bVaApynI3bzC",
        "outputId": "2502c69e-5712-463f-d941-633154e90f01"
      },
      "source": [
        "from keras.models import load_model\n",
        "saved_model = load_model(\"/content/drive/MyDrive/Project COVID-CT/best_model.h5\")\n",
        "saved_model"
      ],
      "execution_count": null,
      "outputs": [
        {
          "output_type": "execute_result",
          "data": {
            "text/plain": [
              "<keras.engine.functional.Functional at 0x7f1055435250>"
            ]
          },
          "metadata": {
            "tags": []
          },
          "execution_count": 19
        }
      ]
    },
    {
      "cell_type": "code",
      "metadata": {
        "id": "ZBXEQisJ3b9P"
      },
      "source": [
        "saved_model_predictions = saved_model.predict(test_generator)"
      ],
      "execution_count": null,
      "outputs": []
    },
    {
      "cell_type": "code",
      "metadata": {
        "colab": {
          "base_uri": "https://localhost:8080/"
        },
        "id": "ZKHJX_nA3cCn",
        "outputId": "61ba7948-96f4-4b31-9e63-6857c5f88232"
      },
      "source": [
        "saved_single_pred = np.argmax(saved_model_predictions, axis = 1)\n",
        "saved_single_pred"
      ],
      "execution_count": null,
      "outputs": [
        {
          "output_type": "execute_result",
          "data": {
            "text/plain": [
              "array([1, 1, 0, 0, 1, 1, 1, 0, 1, 1, 1, 0, 0, 0, 0, 1, 1, 0, 1, 1, 1, 0,\n",
              "       0, 0, 0, 1, 1, 0, 1, 0, 1, 0, 0, 1, 1, 0, 1, 1, 0, 0, 0, 0, 0, 0,\n",
              "       0, 0, 1, 1, 0, 0, 1, 1, 1, 1, 1, 1, 1, 1, 1, 1, 1, 1, 1, 1, 1, 1,\n",
              "       1, 1, 1, 1, 1, 1, 1, 1, 1, 1, 0, 1, 1, 1, 1, 1, 1, 1, 1, 1, 1, 1,\n",
              "       1, 1, 1, 1, 1, 1, 1, 1, 1, 1, 1, 1, 1, 1, 1, 1, 1, 1, 1, 1, 1, 1,\n",
              "       1, 1, 1, 1])"
            ]
          },
          "metadata": {
            "tags": []
          },
          "execution_count": 21
        }
      ]
    },
    {
      "cell_type": "code",
      "metadata": {
        "colab": {
          "base_uri": "https://localhost:8080/"
        },
        "id": "5P_tao2R3cGh",
        "outputId": "141d1d19-6299-4dd2-f334-3f2b84844f8f"
      },
      "source": [
        "confusion_matrix(test_generator.classes, saved_single_pred)"
      ],
      "execution_count": null,
      "outputs": [
        {
          "output_type": "execute_result",
          "data": {
            "text/plain": [
              "array([[27, 26],\n",
              "       [ 1, 60]])"
            ]
          },
          "metadata": {
            "tags": []
          },
          "execution_count": 22
        }
      ]
    },
    {
      "cell_type": "code",
      "metadata": {
        "colab": {
          "base_uri": "https://localhost:8080/"
        },
        "id": "1aHKtl7b4Ti0",
        "outputId": "62a4f19e-ac14-43c2-db43-b53d7383a50d"
      },
      "source": [
        "print(classification_report(test_generator.classes, saved_single_pred))"
      ],
      "execution_count": null,
      "outputs": [
        {
          "output_type": "stream",
          "text": [
            "              precision    recall  f1-score   support\n",
            "\n",
            "           0       0.96      0.51      0.67        53\n",
            "           1       0.70      0.98      0.82        61\n",
            "\n",
            "    accuracy                           0.76       114\n",
            "   macro avg       0.83      0.75      0.74       114\n",
            "weighted avg       0.82      0.76      0.75       114\n",
            "\n"
          ],
          "name": "stdout"
        }
      ]
    },
    {
      "cell_type": "markdown",
      "metadata": {
        "id": "-zzdHmOH_WkQ"
      },
      "source": [
        "We can see that the model saved in our best_model folder performed better than the latest model. Unsurprising!"
      ]
    },
    {
      "cell_type": "markdown",
      "metadata": {
        "id": "kHvdnZy-6OH6"
      },
      "source": [
        "# Recap:\n",
        "## Part 1\n",
        "1. Collected research data from researchers\n",
        "2. Splitted the data into train, validation and test sets\n",
        "\n",
        "## Part 2\n",
        "1. Replicated <em>some</em> of the authors' methods and experimental setting\n",
        "2. Completed one round of model training \n",
        "3. Acessed model performance  \n"
      ]
    }
  ]
}